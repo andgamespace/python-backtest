{
 "cells": [
  {
   "cell_type": "code",
   "execution_count": null,
   "metadata": {},
   "outputs": [
    {
     "name": "stdout",
     "output_type": "stream",
     "text": [
      "<class 'backtesting_engine.backtesting_engine.DataLoader.DataLoader'>\n"
     ]
    },
    {
     "ename": "TypeError",
     "evalue": "DataLoader.load_data() got an unexpected keyword argument 'file_structure'",
     "output_type": "error",
     "traceback": [
      "\u001b[0;31m---------------------------------------------------------------------------\u001b[0m",
      "\u001b[0;31mTypeError\u001b[0m                                 Traceback (most recent call last)",
      "Cell \u001b[0;32mIn[25], line 25\u001b[0m\n\u001b[1;32m     19\u001b[0m \u001b[38;5;66;03m# Load AAPL data\u001b[39;00m\n\u001b[1;32m     20\u001b[0m aapl_paths \u001b[38;5;241m=\u001b[39m [\n\u001b[1;32m     21\u001b[0m     \u001b[38;5;124m'\u001b[39m\u001b[38;5;124m/Users/anshc/repos/python-backtest/testing/test_data/stock_data/time-series-AAPL-5min.csv\u001b[39m\u001b[38;5;124m'\u001b[39m,\n\u001b[1;32m     22\u001b[0m     \u001b[38;5;124m'\u001b[39m\u001b[38;5;124m/Users/anshc/repos/python-backtest/testing/test_data/stock_data/time-series-AAPL-5min(1).csv\u001b[39m\u001b[38;5;124m'\u001b[39m,\n\u001b[1;32m     23\u001b[0m     \u001b[38;5;124m'\u001b[39m\u001b[38;5;124m/Users/anshc/repos/python-backtest/testing/test_data/stock_data/time-series-AAPL-5min(2).csv\u001b[39m\u001b[38;5;124m'\u001b[39m\n\u001b[1;32m     24\u001b[0m ]\n\u001b[0;32m---> 25\u001b[0m aapl_data \u001b[38;5;241m=\u001b[39m \u001b[43mdata_loader\u001b[49m\u001b[38;5;241;43m.\u001b[39;49m\u001b[43mload_data\u001b[49m\u001b[43m(\u001b[49m\u001b[38;5;124;43m'\u001b[39;49m\u001b[38;5;124;43mAAPL\u001b[39;49m\u001b[38;5;124;43m'\u001b[39;49m\u001b[43m,\u001b[49m\u001b[43m \u001b[49m\u001b[43maapl_paths\u001b[49m\u001b[43m,\u001b[49m\u001b[43m \u001b[49m\u001b[43minterval\u001b[49m\u001b[38;5;241;43m=\u001b[39;49m\u001b[38;5;124;43m'\u001b[39;49m\u001b[38;5;124;43m5min\u001b[39;49m\u001b[38;5;124;43m'\u001b[39;49m\u001b[43m,\u001b[49m\u001b[43m \u001b[49m\u001b[43mfile_structure\u001b[49m\u001b[38;5;241;43m=\u001b[39;49m\u001b[43mfile_structure\u001b[49m\u001b[43m)\u001b[49m\n\u001b[1;32m     26\u001b[0m \u001b[38;5;28mprint\u001b[39m(\u001b[38;5;124m\"\u001b[39m\u001b[38;5;124mAAPL Data Shape:\u001b[39m\u001b[38;5;124m\"\u001b[39m, aapl_data\u001b[38;5;241m.\u001b[39mshape)\n\u001b[1;32m     28\u001b[0m \u001b[38;5;66;03m# Load AMD data\u001b[39;00m\n",
      "\u001b[0;31mTypeError\u001b[0m: DataLoader.load_data() got an unexpected keyword argument 'file_structure'"
     ]
    }
   ],
   "source": [
    "import sys\n",
    "import pandas as pd\n",
    "import numpy as np\n",
    "import matplotlib.pyplot as plt\n",
    "\n",
    "# Add parent directory to path for proper import\n",
    "sys.path.append('/Users/anshc/repos/python-backtest')\n",
    "from backtesting_engine.Archive import DataLoader\n",
    "\n",
    "# Ensure the DataLoader class is correctly imported\n",
    "print(DataLoader)\n",
    "\n",
    "# Initialize DataLoader\n",
    "data_loader = DataLoader()\n",
    "\n",
    "# Define file structure\n",
    "file_structure = ['datetime', 'open', 'high', 'low', 'close', 'volume']\n",
    "\n",
    "# Load AAPL data\n",
    "aapl_paths = [\n",
    "    '/Users/anshc/repos/python-backtest/testing/test_data/stock_data/time-series-AAPL-5min.csv',\n",
    "    '/Users/anshc/repos/python-backtest/testing/test_data/stock_data/time-series-AAPL-5min(1).csv',\n",
    "    '/Users/anshc/repos/python-backtest/testing/test_data/stock_data/time-series-AAPL-5min(2).csv'\n",
    "]\n",
    "aapl_data = data_loader.load_data('AAPL', aapl_paths, interval='5min', file_structure=file_structure)\n",
    "print(\"AAPL Data Shape:\", aapl_data.shape)\n",
    "\n",
    "# Load AMD data\n",
    "amd_paths = [\n",
    "    '/Users/anshc/repos/python-backtest/testing/test_data/stock_data/time-series-AMD-5min.csv',\n",
    "    '/Users/anshc/repos/python-backtest/testing/test_data/stock_data/time-series-AMD-5min(1).csv',\n",
    "    '/Users/anshc/repos/python-backtest/testing/test_data/stock_data/time-series-AMD-5min(2).csv'\n",
    "]\n",
    "amd_data = data_loader.load_data('AMD', amd_paths, interval='5min', file_structure=file_structure)\n",
    "print(\"AMD Data Shape:\", amd_data.shape)\n",
    "\n",
    "# Load MSFT data\n",
    "msft_paths = [\n",
    "    '/Users/anshc/repos/python-backtest/testing/test_data/stock_data/time-series-MSFT-5min.csv',\n",
    "    '/Users/anshc/repos/python-backtest/testing/test_data/stock_data/time-series-MSFT-5min(1).csv',\n",
    "    '/Users/anshc/repos/python-backtest/testing/test_data/stock_data/time-series-MSFT-5min(2).csv'\n",
    "]\n",
    "msft_data = data_loader.load_data('MSFT', msft_paths, interval='5min', file_structure=file_structure)\n",
    "print(\"MSFT Data Shape:\", msft_data.shape)\n",
    "\n",
    "# Load NVDA data\n",
    "nvda_paths = [\n",
    "    '/Users/anshc/repos/python-backtest/testing/test_data/stock_data/time-series-NVDA-5min.csv',\n",
    "    '/Users/anshc/repos/python-backtest/testing/test_data/stock_data/time-series-NVDA-5min(1).csv',\n",
    "    '/Users/anshc/repos/python-backtest/testing/test_data/stock_data/time-series-NVDA-5min(2).csv'\n",
    "]\n",
    "nvda_data = data_loader.load_data('NVDA', nvda_paths, interval='5min', file_structure=file_structure)\n",
    "print(\"NVDA Data Shape:\", nvda_data.shape)\n",
    "\n",
    "# Test aligned data\n",
    "aligned_data = data_loader.get_aligned_data()\n",
    "print(\"\\nAligned Data Shapes:\")\n",
    "for symbol, df in aligned_data.items():\n",
    "    print(f\"{symbol}: {df.shape}\")\n",
    "\n",
    "# Plot closing prices\n",
    "plt.figure(figsize=(15, 8))\n",
    "for symbol, df in aligned_data.items():\n",
    "    plt.plot(df.index, df['close'], label=symbol)\n",
    "plt.title('Closing Prices')\n",
    "plt.xlabel('Date')\n",
    "plt.ylabel('Price')\n",
    "plt.legend()\n",
    "plt.show()"
   ]
  },
  {
   "cell_type": "code",
   "execution_count": 19,
   "metadata": {},
   "outputs": [
    {
     "ename": "ImportError",
     "evalue": "cannot import name 'DataLoader' from 'backtesting_engine' (unknown location)",
     "output_type": "error",
     "traceback": [
      "\u001b[0;31m---------------------------------------------------------------------------\u001b[0m",
      "\u001b[0;31mImportError\u001b[0m                               Traceback (most recent call last)",
      "Cell \u001b[0;32mIn[19], line 3\u001b[0m\n\u001b[1;32m      1\u001b[0m \u001b[38;5;28;01mimport\u001b[39;00m\u001b[38;5;250m \u001b[39m\u001b[38;5;21;01msys\u001b[39;00m\n\u001b[1;32m      2\u001b[0m sys\u001b[38;5;241m.\u001b[39mpath\u001b[38;5;241m.\u001b[39mappend(\u001b[38;5;124m'\u001b[39m\u001b[38;5;124m/Users/anshc/repos/python-backtest\u001b[39m\u001b[38;5;124m'\u001b[39m)\n\u001b[0;32m----> 3\u001b[0m \u001b[38;5;28;01mfrom\u001b[39;00m\u001b[38;5;250m \u001b[39m\u001b[38;5;21;01mbacktesting_engine\u001b[39;00m\u001b[38;5;250m \u001b[39m\u001b[38;5;28;01mimport\u001b[39;00m DataLoader, Strategy, BacktestEngine, Portfolio\n\u001b[1;32m      4\u001b[0m \u001b[38;5;28mprint\u001b[39m(\u001b[38;5;124m\"\u001b[39m\u001b[38;5;124mImport test successful.\u001b[39m\u001b[38;5;124m\"\u001b[39m)\n\u001b[1;32m      6\u001b[0m \u001b[38;5;66;03m# Simple usage check\u001b[39;00m\n",
      "\u001b[0;31mImportError\u001b[0m: cannot import name 'DataLoader' from 'backtesting_engine' (unknown location)"
     ]
    }
   ],
   "source": [
    "import sys\n",
    "sys.path.append('/Users/anshc/repos/python-backtest')\n",
    "from backtesting_engine import DataLoader, Strategy, BacktestEngine, Portfolio\n",
    "print(\"Import test successful.\")\n",
    "\n",
    "# Simple usage check\n",
    "loader = DataLoader(cache_data=False)\n",
    "print(\"DataLoader instantiated.\")\n"
   ]
  },
  {
   "cell_type": "code",
   "execution_count": null,
   "metadata": {},
   "outputs": [],
   "source": []
  }
 ],
 "metadata": {
  "kernelspec": {
   "display_name": ".venv",
   "language": "python",
   "name": "python3"
  },
  "language_info": {
   "codemirror_mode": {
    "name": "ipython",
    "version": 3
   },
   "file_extension": ".py",
   "mimetype": "text/x-python",
   "name": "python",
   "nbconvert_exporter": "python",
   "pygments_lexer": "ipython3",
   "version": "3.12.8"
  }
 },
 "nbformat": 4,
 "nbformat_minor": 2
}
